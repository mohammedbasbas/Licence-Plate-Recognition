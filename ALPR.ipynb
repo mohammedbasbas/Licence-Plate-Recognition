{
  "nbformat": 4,
  "nbformat_minor": 0,
  "metadata": {
    "colab": {
      "provenance": [],
      "gpuType": "T4"
    },
    "kernelspec": {
      "name": "python3",
      "display_name": "Python 3"
    },
    "language_info": {
      "name": "python"
    },
    "accelerator": "GPU"
  },
  "cells": [
    {
      "cell_type": "code",
      "execution_count": 1,
      "metadata": {
        "id": "DEESPfV_6VIR",
        "colab": {
          "base_uri": "https://localhost:8080/"
        },
        "outputId": "023e166e-172b-4d7d-ada4-4867d56ce478"
      },
      "outputs": [
        {
          "output_type": "stream",
          "name": "stdout",
          "text": [
            "Mounted at /content/drive\n"
          ]
        }
      ],
      "source": [
        "#Connect to Google drive\n",
        "from google.colab import drive\n",
        "drive.mount('/content/drive')"
      ]
    },
    {
      "cell_type": "code",
      "source": [
        "%cd /content/drive/MyDrive/Licence-Plate-Recognition-using-YOLO-V8"
      ],
      "metadata": {
        "id": "EYFKF89s6YPl",
        "colab": {
          "base_uri": "https://localhost:8080/"
        },
        "outputId": "5a7219c0-7237-4ba4-bece-d4b42349f856"
      },
      "execution_count": 2,
      "outputs": [
        {
          "output_type": "stream",
          "name": "stdout",
          "text": [
            "/content/drive/MyDrive/Licence-Plate-Recognition-using-YOLO-V8\n"
          ]
        }
      ]
    },
    {
      "cell_type": "markdown",
      "source": [
        "# **Install required packages**"
      ],
      "metadata": {
        "id": "e5DvNJ2Z2Xzz"
      }
    },
    {
      "cell_type": "code",
      "source": [
        "!pip install -r '/content/drive/MyDrive/Licence-Plate-Recognition-using-YOLO-V8/requirements.txt'"
      ],
      "metadata": {
        "id": "zAkvZUCz7AAg",
        "colab": {
          "base_uri": "https://localhost:8080/",
          "height": 1000
        },
        "outputId": "ce3e5e67-5653-47e0-c797-d49c584994cb"
      },
      "execution_count": 4,
      "outputs": [
        {
          "output_type": "stream",
          "name": "stdout",
          "text": [
            "Collecting ultralytics==8.0.3 (from -r /content/drive/MyDrive/Licence-Plate-Detection-using-YOLO-V8/requirements (1).txt (line 4))\n",
            "  Downloading ultralytics-8.0.3-py3-none-any.whl (247 kB)\n",
            "\u001b[2K     \u001b[90m━━━━━━━━━━━━━━━━━━━━━━━━━━━━━━━━━━━━━━━━\u001b[0m \u001b[32m247.5/247.5 kB\u001b[0m \u001b[31m7.4 MB/s\u001b[0m eta \u001b[36m0:00:00\u001b[0m\n",
            "\u001b[?25hCollecting hydra-core>=1.2.0 (from -r /content/drive/MyDrive/Licence-Plate-Detection-using-YOLO-V8/requirements (1).txt (line 5))\n",
            "  Downloading hydra_core-1.3.2-py3-none-any.whl (154 kB)\n",
            "\u001b[2K     \u001b[90m━━━━━━━━━━━━━━━━━━━━━━━━━━━━━━━━━━━━━━━━\u001b[0m \u001b[32m154.5/154.5 kB\u001b[0m \u001b[31m27.1 MB/s\u001b[0m eta \u001b[36m0:00:00\u001b[0m\n",
            "\u001b[?25hRequirement already satisfied: matplotlib>=3.2.2 in /usr/local/lib/python3.10/dist-packages (from -r /content/drive/MyDrive/Licence-Plate-Detection-using-YOLO-V8/requirements (1).txt (line 6)) (3.7.1)\n",
            "Requirement already satisfied: numpy>=1.18.5 in /usr/local/lib/python3.10/dist-packages (from -r /content/drive/MyDrive/Licence-Plate-Detection-using-YOLO-V8/requirements (1).txt (line 7)) (1.25.2)\n",
            "Requirement already satisfied: opencv-python>=4.1.1 in /usr/local/lib/python3.10/dist-packages (from -r /content/drive/MyDrive/Licence-Plate-Detection-using-YOLO-V8/requirements (1).txt (line 8)) (4.8.0.76)\n",
            "Requirement already satisfied: Pillow>=7.1.2 in /usr/local/lib/python3.10/dist-packages (from -r /content/drive/MyDrive/Licence-Plate-Detection-using-YOLO-V8/requirements (1).txt (line 9)) (9.4.0)\n",
            "Requirement already satisfied: PyYAML>=5.3.1 in /usr/local/lib/python3.10/dist-packages (from -r /content/drive/MyDrive/Licence-Plate-Detection-using-YOLO-V8/requirements (1).txt (line 10)) (6.0.1)\n",
            "Requirement already satisfied: requests>=2.23.0 in /usr/local/lib/python3.10/dist-packages (from -r /content/drive/MyDrive/Licence-Plate-Detection-using-YOLO-V8/requirements (1).txt (line 11)) (2.31.0)\n",
            "Requirement already satisfied: scipy>=1.4.1 in /usr/local/lib/python3.10/dist-packages (from -r /content/drive/MyDrive/Licence-Plate-Detection-using-YOLO-V8/requirements (1).txt (line 12)) (1.11.4)\n",
            "Requirement already satisfied: torch>=1.7.0 in /usr/local/lib/python3.10/dist-packages (from -r /content/drive/MyDrive/Licence-Plate-Detection-using-YOLO-V8/requirements (1).txt (line 13)) (2.3.0+cu121)\n",
            "Requirement already satisfied: torchvision>=0.8.1 in /usr/local/lib/python3.10/dist-packages (from -r /content/drive/MyDrive/Licence-Plate-Detection-using-YOLO-V8/requirements (1).txt (line 14)) (0.18.0+cu121)\n",
            "Requirement already satisfied: tqdm>=4.64.0 in /usr/local/lib/python3.10/dist-packages (from -r /content/drive/MyDrive/Licence-Plate-Detection-using-YOLO-V8/requirements (1).txt (line 15)) (4.66.4)\n",
            "Collecting Easyocr (from -r /content/drive/MyDrive/Licence-Plate-Detection-using-YOLO-V8/requirements (1).txt (line 16))\n",
            "  Downloading easyocr-1.7.1-py3-none-any.whl (2.9 MB)\n",
            "\u001b[2K     \u001b[90m━━━━━━━━━━━━━━━━━━━━━━━━━━━━━━━━━━━━━━━━\u001b[0m \u001b[32m2.9/2.9 MB\u001b[0m \u001b[31m78.0 MB/s\u001b[0m eta \u001b[36m0:00:00\u001b[0m\n",
            "\u001b[?25hRequirement already satisfied: tensorboard>=2.4.1 in /usr/local/lib/python3.10/dist-packages (from -r /content/drive/MyDrive/Licence-Plate-Detection-using-YOLO-V8/requirements (1).txt (line 19)) (2.15.2)\n",
            "Requirement already satisfied: pandas>=1.1.4 in /usr/local/lib/python3.10/dist-packages (from -r /content/drive/MyDrive/Licence-Plate-Detection-using-YOLO-V8/requirements (1).txt (line 23)) (2.0.3)\n",
            "Requirement already satisfied: seaborn>=0.11.0 in /usr/local/lib/python3.10/dist-packages (from -r /content/drive/MyDrive/Licence-Plate-Detection-using-YOLO-V8/requirements (1).txt (line 24)) (0.13.1)\n",
            "Requirement already satisfied: ipython in /usr/local/lib/python3.10/dist-packages (from -r /content/drive/MyDrive/Licence-Plate-Detection-using-YOLO-V8/requirements (1).txt (line 27)) (7.34.0)\n",
            "Requirement already satisfied: psutil in /usr/local/lib/python3.10/dist-packages (from -r /content/drive/MyDrive/Licence-Plate-Detection-using-YOLO-V8/requirements (1).txt (line 28)) (5.9.5)\n",
            "Collecting thop>=0.1.1 (from -r /content/drive/MyDrive/Licence-Plate-Detection-using-YOLO-V8/requirements (1).txt (line 29))\n",
            "  Downloading thop-0.1.1.post2209072238-py3-none-any.whl (15 kB)\n",
            "Collecting GitPython>=3.1.24 (from -r /content/drive/MyDrive/Licence-Plate-Detection-using-YOLO-V8/requirements (1).txt (line 32))\n",
            "  Downloading GitPython-3.1.43-py3-none-any.whl (207 kB)\n",
            "\u001b[2K     \u001b[90m━━━━━━━━━━━━━━━━━━━━━━━━━━━━━━━━━━━━━━━━\u001b[0m \u001b[32m207.3/207.3 kB\u001b[0m \u001b[31m32.7 MB/s\u001b[0m eta \u001b[36m0:00:00\u001b[0m\n",
            "\u001b[?25hCollecting omegaconf<2.4,>=2.2 (from hydra-core>=1.2.0->-r /content/drive/MyDrive/Licence-Plate-Detection-using-YOLO-V8/requirements (1).txt (line 5))\n",
            "  Downloading omegaconf-2.3.0-py3-none-any.whl (79 kB)\n",
            "\u001b[2K     \u001b[90m━━━━━━━━━━━━━━━━━━━━━━━━━━━━━━━━━━━━━━━━\u001b[0m \u001b[32m79.5/79.5 kB\u001b[0m \u001b[31m13.3 MB/s\u001b[0m eta \u001b[36m0:00:00\u001b[0m\n",
            "\u001b[?25hCollecting antlr4-python3-runtime==4.9.* (from hydra-core>=1.2.0->-r /content/drive/MyDrive/Licence-Plate-Detection-using-YOLO-V8/requirements (1).txt (line 5))\n",
            "  Downloading antlr4-python3-runtime-4.9.3.tar.gz (117 kB)\n",
            "\u001b[2K     \u001b[90m━━━━━━━━━━━━━━━━━━━━━━━━━━━━━━━━━━━━━━━━\u001b[0m \u001b[32m117.0/117.0 kB\u001b[0m \u001b[31m13.9 MB/s\u001b[0m eta \u001b[36m0:00:00\u001b[0m\n",
            "\u001b[?25h  Preparing metadata (setup.py) ... \u001b[?25l\u001b[?25hdone\n",
            "Requirement already satisfied: packaging in /usr/local/lib/python3.10/dist-packages (from hydra-core>=1.2.0->-r /content/drive/MyDrive/Licence-Plate-Detection-using-YOLO-V8/requirements (1).txt (line 5)) (24.0)\n",
            "Requirement already satisfied: contourpy>=1.0.1 in /usr/local/lib/python3.10/dist-packages (from matplotlib>=3.2.2->-r /content/drive/MyDrive/Licence-Plate-Detection-using-YOLO-V8/requirements (1).txt (line 6)) (1.2.1)\n",
            "Requirement already satisfied: cycler>=0.10 in /usr/local/lib/python3.10/dist-packages (from matplotlib>=3.2.2->-r /content/drive/MyDrive/Licence-Plate-Detection-using-YOLO-V8/requirements (1).txt (line 6)) (0.12.1)\n",
            "Requirement already satisfied: fonttools>=4.22.0 in /usr/local/lib/python3.10/dist-packages (from matplotlib>=3.2.2->-r /content/drive/MyDrive/Licence-Plate-Detection-using-YOLO-V8/requirements (1).txt (line 6)) (4.53.0)\n",
            "Requirement already satisfied: kiwisolver>=1.0.1 in /usr/local/lib/python3.10/dist-packages (from matplotlib>=3.2.2->-r /content/drive/MyDrive/Licence-Plate-Detection-using-YOLO-V8/requirements (1).txt (line 6)) (1.4.5)\n",
            "Requirement already satisfied: pyparsing>=2.3.1 in /usr/local/lib/python3.10/dist-packages (from matplotlib>=3.2.2->-r /content/drive/MyDrive/Licence-Plate-Detection-using-YOLO-V8/requirements (1).txt (line 6)) (3.1.2)\n",
            "Requirement already satisfied: python-dateutil>=2.7 in /usr/local/lib/python3.10/dist-packages (from matplotlib>=3.2.2->-r /content/drive/MyDrive/Licence-Plate-Detection-using-YOLO-V8/requirements (1).txt (line 6)) (2.8.2)\n",
            "Requirement already satisfied: charset-normalizer<4,>=2 in /usr/local/lib/python3.10/dist-packages (from requests>=2.23.0->-r /content/drive/MyDrive/Licence-Plate-Detection-using-YOLO-V8/requirements (1).txt (line 11)) (3.3.2)\n",
            "Requirement already satisfied: idna<4,>=2.5 in /usr/local/lib/python3.10/dist-packages (from requests>=2.23.0->-r /content/drive/MyDrive/Licence-Plate-Detection-using-YOLO-V8/requirements (1).txt (line 11)) (3.7)\n",
            "Requirement already satisfied: urllib3<3,>=1.21.1 in /usr/local/lib/python3.10/dist-packages (from requests>=2.23.0->-r /content/drive/MyDrive/Licence-Plate-Detection-using-YOLO-V8/requirements (1).txt (line 11)) (2.0.7)\n",
            "Requirement already satisfied: certifi>=2017.4.17 in /usr/local/lib/python3.10/dist-packages (from requests>=2.23.0->-r /content/drive/MyDrive/Licence-Plate-Detection-using-YOLO-V8/requirements (1).txt (line 11)) (2024.6.2)\n",
            "Requirement already satisfied: filelock in /usr/local/lib/python3.10/dist-packages (from torch>=1.7.0->-r /content/drive/MyDrive/Licence-Plate-Detection-using-YOLO-V8/requirements (1).txt (line 13)) (3.14.0)\n",
            "Requirement already satisfied: typing-extensions>=4.8.0 in /usr/local/lib/python3.10/dist-packages (from torch>=1.7.0->-r /content/drive/MyDrive/Licence-Plate-Detection-using-YOLO-V8/requirements (1).txt (line 13)) (4.12.1)\n",
            "Requirement already satisfied: sympy in /usr/local/lib/python3.10/dist-packages (from torch>=1.7.0->-r /content/drive/MyDrive/Licence-Plate-Detection-using-YOLO-V8/requirements (1).txt (line 13)) (1.12.1)\n",
            "Requirement already satisfied: networkx in /usr/local/lib/python3.10/dist-packages (from torch>=1.7.0->-r /content/drive/MyDrive/Licence-Plate-Detection-using-YOLO-V8/requirements (1).txt (line 13)) (3.3)\n",
            "Requirement already satisfied: jinja2 in /usr/local/lib/python3.10/dist-packages (from torch>=1.7.0->-r /content/drive/MyDrive/Licence-Plate-Detection-using-YOLO-V8/requirements (1).txt (line 13)) (3.1.4)\n",
            "Requirement already satisfied: fsspec in /usr/local/lib/python3.10/dist-packages (from torch>=1.7.0->-r /content/drive/MyDrive/Licence-Plate-Detection-using-YOLO-V8/requirements (1).txt (line 13)) (2023.6.0)\n",
            "Collecting nvidia-cuda-nvrtc-cu12==12.1.105 (from torch>=1.7.0->-r /content/drive/MyDrive/Licence-Plate-Detection-using-YOLO-V8/requirements (1).txt (line 13))\n",
            "  Using cached nvidia_cuda_nvrtc_cu12-12.1.105-py3-none-manylinux1_x86_64.whl (23.7 MB)\n",
            "Collecting nvidia-cuda-runtime-cu12==12.1.105 (from torch>=1.7.0->-r /content/drive/MyDrive/Licence-Plate-Detection-using-YOLO-V8/requirements (1).txt (line 13))\n",
            "  Using cached nvidia_cuda_runtime_cu12-12.1.105-py3-none-manylinux1_x86_64.whl (823 kB)\n",
            "Collecting nvidia-cuda-cupti-cu12==12.1.105 (from torch>=1.7.0->-r /content/drive/MyDrive/Licence-Plate-Detection-using-YOLO-V8/requirements (1).txt (line 13))\n",
            "  Using cached nvidia_cuda_cupti_cu12-12.1.105-py3-none-manylinux1_x86_64.whl (14.1 MB)\n",
            "Collecting nvidia-cudnn-cu12==8.9.2.26 (from torch>=1.7.0->-r /content/drive/MyDrive/Licence-Plate-Detection-using-YOLO-V8/requirements (1).txt (line 13))\n",
            "  Using cached nvidia_cudnn_cu12-8.9.2.26-py3-none-manylinux1_x86_64.whl (731.7 MB)\n",
            "Collecting nvidia-cublas-cu12==12.1.3.1 (from torch>=1.7.0->-r /content/drive/MyDrive/Licence-Plate-Detection-using-YOLO-V8/requirements (1).txt (line 13))\n",
            "  Using cached nvidia_cublas_cu12-12.1.3.1-py3-none-manylinux1_x86_64.whl (410.6 MB)\n",
            "Collecting nvidia-cufft-cu12==11.0.2.54 (from torch>=1.7.0->-r /content/drive/MyDrive/Licence-Plate-Detection-using-YOLO-V8/requirements (1).txt (line 13))\n",
            "  Using cached nvidia_cufft_cu12-11.0.2.54-py3-none-manylinux1_x86_64.whl (121.6 MB)\n",
            "Collecting nvidia-curand-cu12==10.3.2.106 (from torch>=1.7.0->-r /content/drive/MyDrive/Licence-Plate-Detection-using-YOLO-V8/requirements (1).txt (line 13))\n",
            "  Using cached nvidia_curand_cu12-10.3.2.106-py3-none-manylinux1_x86_64.whl (56.5 MB)\n",
            "Collecting nvidia-cusolver-cu12==11.4.5.107 (from torch>=1.7.0->-r /content/drive/MyDrive/Licence-Plate-Detection-using-YOLO-V8/requirements (1).txt (line 13))\n",
            "  Using cached nvidia_cusolver_cu12-11.4.5.107-py3-none-manylinux1_x86_64.whl (124.2 MB)\n",
            "Collecting nvidia-cusparse-cu12==12.1.0.106 (from torch>=1.7.0->-r /content/drive/MyDrive/Licence-Plate-Detection-using-YOLO-V8/requirements (1).txt (line 13))\n",
            "  Using cached nvidia_cusparse_cu12-12.1.0.106-py3-none-manylinux1_x86_64.whl (196.0 MB)\n",
            "Collecting nvidia-nccl-cu12==2.20.5 (from torch>=1.7.0->-r /content/drive/MyDrive/Licence-Plate-Detection-using-YOLO-V8/requirements (1).txt (line 13))\n",
            "  Using cached nvidia_nccl_cu12-2.20.5-py3-none-manylinux2014_x86_64.whl (176.2 MB)\n",
            "Collecting nvidia-nvtx-cu12==12.1.105 (from torch>=1.7.0->-r /content/drive/MyDrive/Licence-Plate-Detection-using-YOLO-V8/requirements (1).txt (line 13))\n",
            "  Using cached nvidia_nvtx_cu12-12.1.105-py3-none-manylinux1_x86_64.whl (99 kB)\n",
            "Requirement already satisfied: triton==2.3.0 in /usr/local/lib/python3.10/dist-packages (from torch>=1.7.0->-r /content/drive/MyDrive/Licence-Plate-Detection-using-YOLO-V8/requirements (1).txt (line 13)) (2.3.0)\n",
            "Collecting nvidia-nvjitlink-cu12 (from nvidia-cusolver-cu12==11.4.5.107->torch>=1.7.0->-r /content/drive/MyDrive/Licence-Plate-Detection-using-YOLO-V8/requirements (1).txt (line 13))\n",
            "  Downloading nvidia_nvjitlink_cu12-12.5.40-py3-none-manylinux2014_x86_64.whl (21.3 MB)\n",
            "\u001b[2K     \u001b[90m━━━━━━━━━━━━━━━━━━━━━━━━━━━━━━━━━━━━━━━━\u001b[0m \u001b[32m21.3/21.3 MB\u001b[0m \u001b[31m26.3 MB/s\u001b[0m eta \u001b[36m0:00:00\u001b[0m\n",
            "\u001b[?25hRequirement already satisfied: opencv-python-headless in /usr/local/lib/python3.10/dist-packages (from Easyocr->-r /content/drive/MyDrive/Licence-Plate-Detection-using-YOLO-V8/requirements (1).txt (line 16)) (4.10.0.82)\n",
            "Requirement already satisfied: scikit-image in /usr/local/lib/python3.10/dist-packages (from Easyocr->-r /content/drive/MyDrive/Licence-Plate-Detection-using-YOLO-V8/requirements (1).txt (line 16)) (0.19.3)\n",
            "Collecting python-bidi (from Easyocr->-r /content/drive/MyDrive/Licence-Plate-Detection-using-YOLO-V8/requirements (1).txt (line 16))\n",
            "  Downloading python_bidi-0.4.2-py2.py3-none-any.whl (30 kB)\n",
            "Requirement already satisfied: Shapely in /usr/local/lib/python3.10/dist-packages (from Easyocr->-r /content/drive/MyDrive/Licence-Plate-Detection-using-YOLO-V8/requirements (1).txt (line 16)) (2.0.4)\n",
            "Collecting pyclipper (from Easyocr->-r /content/drive/MyDrive/Licence-Plate-Detection-using-YOLO-V8/requirements (1).txt (line 16))\n",
            "  Downloading pyclipper-1.3.0.post5-cp310-cp310-manylinux_2_12_x86_64.manylinux2010_x86_64.whl (908 kB)\n",
            "\u001b[2K     \u001b[90m━━━━━━━━━━━━━━━━━━━━━━━━━━━━━━━━━━━━━━━━\u001b[0m \u001b[32m908.3/908.3 kB\u001b[0m \u001b[31m67.9 MB/s\u001b[0m eta \u001b[36m0:00:00\u001b[0m\n",
            "\u001b[?25hCollecting ninja (from Easyocr->-r /content/drive/MyDrive/Licence-Plate-Detection-using-YOLO-V8/requirements (1).txt (line 16))\n",
            "  Downloading ninja-1.11.1.1-py2.py3-none-manylinux1_x86_64.manylinux_2_5_x86_64.whl (307 kB)\n",
            "\u001b[2K     \u001b[90m━━━━━━━━━━━━━━━━━━━━━━━━━━━━━━━━━━━━━━━━\u001b[0m \u001b[32m307.2/307.2 kB\u001b[0m \u001b[31m41.3 MB/s\u001b[0m eta \u001b[36m0:00:00\u001b[0m\n",
            "\u001b[?25hRequirement already satisfied: absl-py>=0.4 in /usr/local/lib/python3.10/dist-packages (from tensorboard>=2.4.1->-r /content/drive/MyDrive/Licence-Plate-Detection-using-YOLO-V8/requirements (1).txt (line 19)) (1.4.0)\n",
            "Requirement already satisfied: grpcio>=1.48.2 in /usr/local/lib/python3.10/dist-packages (from tensorboard>=2.4.1->-r /content/drive/MyDrive/Licence-Plate-Detection-using-YOLO-V8/requirements (1).txt (line 19)) (1.64.1)\n",
            "Requirement already satisfied: google-auth<3,>=1.6.3 in /usr/local/lib/python3.10/dist-packages (from tensorboard>=2.4.1->-r /content/drive/MyDrive/Licence-Plate-Detection-using-YOLO-V8/requirements (1).txt (line 19)) (2.27.0)\n",
            "Requirement already satisfied: google-auth-oauthlib<2,>=0.5 in /usr/local/lib/python3.10/dist-packages (from tensorboard>=2.4.1->-r /content/drive/MyDrive/Licence-Plate-Detection-using-YOLO-V8/requirements (1).txt (line 19)) (1.2.0)\n",
            "Requirement already satisfied: markdown>=2.6.8 in /usr/local/lib/python3.10/dist-packages (from tensorboard>=2.4.1->-r /content/drive/MyDrive/Licence-Plate-Detection-using-YOLO-V8/requirements (1).txt (line 19)) (3.6)\n",
            "Requirement already satisfied: protobuf!=4.24.0,>=3.19.6 in /usr/local/lib/python3.10/dist-packages (from tensorboard>=2.4.1->-r /content/drive/MyDrive/Licence-Plate-Detection-using-YOLO-V8/requirements (1).txt (line 19)) (3.20.3)\n",
            "Requirement already satisfied: setuptools>=41.0.0 in /usr/local/lib/python3.10/dist-packages (from tensorboard>=2.4.1->-r /content/drive/MyDrive/Licence-Plate-Detection-using-YOLO-V8/requirements (1).txt (line 19)) (67.7.2)\n",
            "Requirement already satisfied: six>1.9 in /usr/local/lib/python3.10/dist-packages (from tensorboard>=2.4.1->-r /content/drive/MyDrive/Licence-Plate-Detection-using-YOLO-V8/requirements (1).txt (line 19)) (1.16.0)\n",
            "Requirement already satisfied: tensorboard-data-server<0.8.0,>=0.7.0 in /usr/local/lib/python3.10/dist-packages (from tensorboard>=2.4.1->-r /content/drive/MyDrive/Licence-Plate-Detection-using-YOLO-V8/requirements (1).txt (line 19)) (0.7.2)\n",
            "Requirement already satisfied: werkzeug>=1.0.1 in /usr/local/lib/python3.10/dist-packages (from tensorboard>=2.4.1->-r /content/drive/MyDrive/Licence-Plate-Detection-using-YOLO-V8/requirements (1).txt (line 19)) (3.0.3)\n",
            "Requirement already satisfied: pytz>=2020.1 in /usr/local/lib/python3.10/dist-packages (from pandas>=1.1.4->-r /content/drive/MyDrive/Licence-Plate-Detection-using-YOLO-V8/requirements (1).txt (line 23)) (2023.4)\n",
            "Requirement already satisfied: tzdata>=2022.1 in /usr/local/lib/python3.10/dist-packages (from pandas>=1.1.4->-r /content/drive/MyDrive/Licence-Plate-Detection-using-YOLO-V8/requirements (1).txt (line 23)) (2024.1)\n",
            "Collecting jedi>=0.16 (from ipython->-r /content/drive/MyDrive/Licence-Plate-Detection-using-YOLO-V8/requirements (1).txt (line 27))\n",
            "  Downloading jedi-0.19.1-py2.py3-none-any.whl (1.6 MB)\n",
            "\u001b[2K     \u001b[90m━━━━━━━━━━━━━━━━━━━━━━━━━━━━━━━━━━━━━━━━\u001b[0m \u001b[32m1.6/1.6 MB\u001b[0m \u001b[31m82.7 MB/s\u001b[0m eta \u001b[36m0:00:00\u001b[0m\n",
            "\u001b[?25hRequirement already satisfied: decorator in /usr/local/lib/python3.10/dist-packages (from ipython->-r /content/drive/MyDrive/Licence-Plate-Detection-using-YOLO-V8/requirements (1).txt (line 27)) (4.4.2)\n",
            "Requirement already satisfied: pickleshare in /usr/local/lib/python3.10/dist-packages (from ipython->-r /content/drive/MyDrive/Licence-Plate-Detection-using-YOLO-V8/requirements (1).txt (line 27)) (0.7.5)\n",
            "Requirement already satisfied: traitlets>=4.2 in /usr/local/lib/python3.10/dist-packages (from ipython->-r /content/drive/MyDrive/Licence-Plate-Detection-using-YOLO-V8/requirements (1).txt (line 27)) (5.7.1)\n",
            "Requirement already satisfied: prompt-toolkit!=3.0.0,!=3.0.1,<3.1.0,>=2.0.0 in /usr/local/lib/python3.10/dist-packages (from ipython->-r /content/drive/MyDrive/Licence-Plate-Detection-using-YOLO-V8/requirements (1).txt (line 27)) (3.0.45)\n",
            "Requirement already satisfied: pygments in /usr/local/lib/python3.10/dist-packages (from ipython->-r /content/drive/MyDrive/Licence-Plate-Detection-using-YOLO-V8/requirements (1).txt (line 27)) (2.16.1)\n",
            "Requirement already satisfied: backcall in /usr/local/lib/python3.10/dist-packages (from ipython->-r /content/drive/MyDrive/Licence-Plate-Detection-using-YOLO-V8/requirements (1).txt (line 27)) (0.2.0)\n",
            "Requirement already satisfied: matplotlib-inline in /usr/local/lib/python3.10/dist-packages (from ipython->-r /content/drive/MyDrive/Licence-Plate-Detection-using-YOLO-V8/requirements (1).txt (line 27)) (0.1.7)\n",
            "Requirement already satisfied: pexpect>4.3 in /usr/local/lib/python3.10/dist-packages (from ipython->-r /content/drive/MyDrive/Licence-Plate-Detection-using-YOLO-V8/requirements (1).txt (line 27)) (4.9.0)\n",
            "Collecting gitdb<5,>=4.0.1 (from GitPython>=3.1.24->-r /content/drive/MyDrive/Licence-Plate-Detection-using-YOLO-V8/requirements (1).txt (line 32))\n",
            "  Downloading gitdb-4.0.11-py3-none-any.whl (62 kB)\n",
            "\u001b[2K     \u001b[90m━━━━━━━━━━━━━━━━━━━━━━━━━━━━━━━━━━━━━━━━\u001b[0m \u001b[32m62.7/62.7 kB\u001b[0m \u001b[31m9.8 MB/s\u001b[0m eta \u001b[36m0:00:00\u001b[0m\n",
            "\u001b[?25hCollecting smmap<6,>=3.0.1 (from gitdb<5,>=4.0.1->GitPython>=3.1.24->-r /content/drive/MyDrive/Licence-Plate-Detection-using-YOLO-V8/requirements (1).txt (line 32))\n",
            "  Downloading smmap-5.0.1-py3-none-any.whl (24 kB)\n",
            "Requirement already satisfied: cachetools<6.0,>=2.0.0 in /usr/local/lib/python3.10/dist-packages (from google-auth<3,>=1.6.3->tensorboard>=2.4.1->-r /content/drive/MyDrive/Licence-Plate-Detection-using-YOLO-V8/requirements (1).txt (line 19)) (5.3.3)\n",
            "Requirement already satisfied: pyasn1-modules>=0.2.1 in /usr/local/lib/python3.10/dist-packages (from google-auth<3,>=1.6.3->tensorboard>=2.4.1->-r /content/drive/MyDrive/Licence-Plate-Detection-using-YOLO-V8/requirements (1).txt (line 19)) (0.4.0)\n",
            "Requirement already satisfied: rsa<5,>=3.1.4 in /usr/local/lib/python3.10/dist-packages (from google-auth<3,>=1.6.3->tensorboard>=2.4.1->-r /content/drive/MyDrive/Licence-Plate-Detection-using-YOLO-V8/requirements (1).txt (line 19)) (4.9)\n",
            "Requirement already satisfied: requests-oauthlib>=0.7.0 in /usr/local/lib/python3.10/dist-packages (from google-auth-oauthlib<2,>=0.5->tensorboard>=2.4.1->-r /content/drive/MyDrive/Licence-Plate-Detection-using-YOLO-V8/requirements (1).txt (line 19)) (1.3.1)\n",
            "Requirement already satisfied: parso<0.9.0,>=0.8.3 in /usr/local/lib/python3.10/dist-packages (from jedi>=0.16->ipython->-r /content/drive/MyDrive/Licence-Plate-Detection-using-YOLO-V8/requirements (1).txt (line 27)) (0.8.4)\n",
            "Requirement already satisfied: ptyprocess>=0.5 in /usr/local/lib/python3.10/dist-packages (from pexpect>4.3->ipython->-r /content/drive/MyDrive/Licence-Plate-Detection-using-YOLO-V8/requirements (1).txt (line 27)) (0.7.0)\n",
            "Requirement already satisfied: wcwidth in /usr/local/lib/python3.10/dist-packages (from prompt-toolkit!=3.0.0,!=3.0.1,<3.1.0,>=2.0.0->ipython->-r /content/drive/MyDrive/Licence-Plate-Detection-using-YOLO-V8/requirements (1).txt (line 27)) (0.2.13)\n",
            "Requirement already satisfied: MarkupSafe>=2.1.1 in /usr/local/lib/python3.10/dist-packages (from werkzeug>=1.0.1->tensorboard>=2.4.1->-r /content/drive/MyDrive/Licence-Plate-Detection-using-YOLO-V8/requirements (1).txt (line 19)) (2.1.5)\n",
            "Requirement already satisfied: imageio>=2.4.1 in /usr/local/lib/python3.10/dist-packages (from scikit-image->Easyocr->-r /content/drive/MyDrive/Licence-Plate-Detection-using-YOLO-V8/requirements (1).txt (line 16)) (2.31.6)\n",
            "Requirement already satisfied: tifffile>=2019.7.26 in /usr/local/lib/python3.10/dist-packages (from scikit-image->Easyocr->-r /content/drive/MyDrive/Licence-Plate-Detection-using-YOLO-V8/requirements (1).txt (line 16)) (2024.5.22)\n",
            "Requirement already satisfied: PyWavelets>=1.1.1 in /usr/local/lib/python3.10/dist-packages (from scikit-image->Easyocr->-r /content/drive/MyDrive/Licence-Plate-Detection-using-YOLO-V8/requirements (1).txt (line 16)) (1.6.0)\n",
            "Requirement already satisfied: mpmath<1.4.0,>=1.1.0 in /usr/local/lib/python3.10/dist-packages (from sympy->torch>=1.7.0->-r /content/drive/MyDrive/Licence-Plate-Detection-using-YOLO-V8/requirements (1).txt (line 13)) (1.3.0)\n",
            "Requirement already satisfied: pyasn1<0.7.0,>=0.4.6 in /usr/local/lib/python3.10/dist-packages (from pyasn1-modules>=0.2.1->google-auth<3,>=1.6.3->tensorboard>=2.4.1->-r /content/drive/MyDrive/Licence-Plate-Detection-using-YOLO-V8/requirements (1).txt (line 19)) (0.6.0)\n",
            "Requirement already satisfied: oauthlib>=3.0.0 in /usr/local/lib/python3.10/dist-packages (from requests-oauthlib>=0.7.0->google-auth-oauthlib<2,>=0.5->tensorboard>=2.4.1->-r /content/drive/MyDrive/Licence-Plate-Detection-using-YOLO-V8/requirements (1).txt (line 19)) (3.2.2)\n",
            "Building wheels for collected packages: antlr4-python3-runtime\n",
            "  Building wheel for antlr4-python3-runtime (setup.py) ... \u001b[?25l\u001b[?25hdone\n",
            "  Created wheel for antlr4-python3-runtime: filename=antlr4_python3_runtime-4.9.3-py3-none-any.whl size=144554 sha256=85736825d867c10f1911cdffc6788f37dbf8f1bfb2d83899b838ff52acab593c\n",
            "  Stored in directory: /root/.cache/pip/wheels/12/93/dd/1f6a127edc45659556564c5730f6d4e300888f4bca2d4c5a88\n",
            "Successfully built antlr4-python3-runtime\n",
            "Installing collected packages: pyclipper, ninja, antlr4-python3-runtime, smmap, python-bidi, omegaconf, nvidia-nvtx-cu12, nvidia-nvjitlink-cu12, nvidia-nccl-cu12, nvidia-curand-cu12, nvidia-cufft-cu12, nvidia-cuda-runtime-cu12, nvidia-cuda-nvrtc-cu12, nvidia-cuda-cupti-cu12, nvidia-cublas-cu12, jedi, nvidia-cusparse-cu12, nvidia-cudnn-cu12, hydra-core, gitdb, nvidia-cusolver-cu12, GitPython, thop, ultralytics, Easyocr\n",
            "Successfully installed Easyocr-1.7.1 GitPython-3.1.43 antlr4-python3-runtime-4.9.3 gitdb-4.0.11 hydra-core-1.3.2 jedi-0.19.1 ninja-1.11.1.1 nvidia-cublas-cu12-12.1.3.1 nvidia-cuda-cupti-cu12-12.1.105 nvidia-cuda-nvrtc-cu12-12.1.105 nvidia-cuda-runtime-cu12-12.1.105 nvidia-cudnn-cu12-8.9.2.26 nvidia-cufft-cu12-11.0.2.54 nvidia-curand-cu12-10.3.2.106 nvidia-cusolver-cu12-11.4.5.107 nvidia-cusparse-cu12-12.1.0.106 nvidia-nccl-cu12-2.20.5 nvidia-nvjitlink-cu12-12.5.40 nvidia-nvtx-cu12-12.1.105 omegaconf-2.3.0 pyclipper-1.3.0.post5 python-bidi-0.4.2 smmap-5.0.1 thop-0.1.1.post2209072238 ultralytics-8.0.3\n"
          ]
        },
        {
          "output_type": "display_data",
          "data": {
            "application/vnd.colab-display-data+json": {
              "pip_warning": {
                "packages": [
                  "pydevd_plugins"
                ]
              },
              "id": "3d05260c9ac74fd4a9551ad958aa8e1b"
            }
          },
          "metadata": {}
        }
      ]
    },
    {
      "cell_type": "markdown",
      "source": [
        "# **Licence Plate Detection**"
      ],
      "metadata": {
        "id": "G26YjXwn6iPH"
      }
    },
    {
      "cell_type": "code",
      "source": [
        "!python /content/drive/MyDrive/Licence-Plate-Recognition-using-YOLO-V8/ultralytics/yolo/v8/detect/predict.py model='/content/drive/MyDrive/Licence-Plate-Detection-using-YOLO-V8/runs/detect/train/weights/best.pt' source='/content/drive/MyDrive/Licence-Plate-Detection-using-YOLO-V8/10118906711.jpeg'\n"
      ],
      "metadata": {
        "id": "RK2bEGMv6azb",
        "colab": {
          "base_uri": "https://localhost:8080/"
        },
        "outputId": "66dd5b19-812e-4776-aa05-eb4cc8f1c4b7"
      },
      "execution_count": 6,
      "outputs": [
        {
          "output_type": "stream",
          "name": "stdout",
          "text": [
            "2024-06-06 11:00:21.286170: E external/local_xla/xla/stream_executor/cuda/cuda_dnn.cc:9261] Unable to register cuDNN factory: Attempting to register factory for plugin cuDNN when one has already been registered\n",
            "2024-06-06 11:00:21.286232: E external/local_xla/xla/stream_executor/cuda/cuda_fft.cc:607] Unable to register cuFFT factory: Attempting to register factory for plugin cuFFT when one has already been registered\n",
            "2024-06-06 11:00:21.287796: E external/local_xla/xla/stream_executor/cuda/cuda_blas.cc:1515] Unable to register cuBLAS factory: Attempting to register factory for plugin cuBLAS when one has already been registered\n",
            "2024-06-06 11:00:21.296619: I tensorflow/core/platform/cpu_feature_guard.cc:182] This TensorFlow binary is optimized to use available CPU instructions in performance-critical operations.\n",
            "To enable the following instructions: AVX2 FMA, in other operations, rebuild TensorFlow with the appropriate compiler flags.\n",
            "2024-06-06 11:00:22.523916: W tensorflow/compiler/tf2tensorrt/utils/py_utils.cc:38] TF-TRT Warning: Could not find TensorRT\n",
            "Ultralytics YOLOv8.0.3 🚀 Python-3.10.12 torch-2.3.0+cu121 CUDA:0 (Tesla T4, 15102MiB)\n",
            "Fusing layers... \n",
            "Model summary: 168 layers, 3005843 parameters, 0 gradients, 8.1 GFLOPs\n",
            "WARNING ⚠️ NMS time limit 0.550s exceeded\n",
            "image 1/1 /content/drive/MyDrive/Licence-Plate-Detection-using-YOLO-V8/10118906711.jpeg: 480x640 1 LicensePlate, 108.8ms\n",
            "Speed: 0.8ms pre-process, 108.8ms inference, 795.3ms postprocess per image at shape (1, 3, 640, 640)\n",
            "Results saved to \u001b[1mruns/detect/train17\u001b[0m\n"
          ]
        }
      ]
    },
    {
      "cell_type": "markdown",
      "source": [
        "# **Licence Plate Recognition**"
      ],
      "metadata": {
        "id": "fkXGWZ-e6sr0"
      }
    },
    {
      "cell_type": "code",
      "source": [
        "!python predictWithOCR.py model='/content/drive/MyDrive/Licence-Plate-Recognition-using-YOLO-V8/runs/detect/train/weights/best.pt' source='/content/drive/MyDrive/Licence-Plate-Detection-using-YOLO-V8/1_qre-gAVNTuazaUPvNw2w-Q.jpg'\n"
      ],
      "metadata": {
        "id": "a61C2hGo7FGG",
        "colab": {
          "base_uri": "https://localhost:8080/"
        },
        "outputId": "9618da4b-56e5-459e-88cd-b5b06bfc16fd"
      },
      "execution_count": 11,
      "outputs": [
        {
          "output_type": "stream",
          "name": "stdout",
          "text": [
            "2024-06-08 02:39:27.490100: E external/local_xla/xla/stream_executor/cuda/cuda_dnn.cc:9261] Unable to register cuDNN factory: Attempting to register factory for plugin cuDNN when one has already been registered\n",
            "2024-06-08 02:39:27.490149: E external/local_xla/xla/stream_executor/cuda/cuda_fft.cc:607] Unable to register cuFFT factory: Attempting to register factory for plugin cuFFT when one has already been registered\n",
            "2024-06-08 02:39:27.491433: E external/local_xla/xla/stream_executor/cuda/cuda_blas.cc:1515] Unable to register cuBLAS factory: Attempting to register factory for plugin cuBLAS when one has already been registered\n",
            "2024-06-08 02:39:28.689477: W tensorflow/compiler/tf2tensorrt/utils/py_utils.cc:38] TF-TRT Warning: Could not find TensorRT\n",
            "Ultralytics YOLOv8.0.3 🚀 Python-3.10.12 torch-2.3.0+cu121 CUDA:0 (Tesla T4, 15102MiB)\n",
            "Fusing layers... \n",
            "Model summary: 168 layers, 3005843 parameters, 0 gradients, 8.1 GFLOPs\n",
            "WARNING ⚠️ NMS time limit 0.550s exceeded\n",
            "/usr/local/lib/python3.10/dist-packages/torch/nn/modules/conv.py:456: UserWarning: Plan failed with a cudnnException: CUDNN_BACKEND_EXECUTION_PLAN_DESCRIPTOR: cudnnFinalize Descriptor Failed cudnn_status: CUDNN_STATUS_NOT_SUPPORTED (Triggered internally at ../aten/src/ATen/native/cudnn/Conv_v8.cpp:919.)\n",
            "  return F.conv2d(input, weight, bias, self.stride,\n",
            "image 1/1 /content/drive/MyDrive/Licence-Plate-Detection-using-YOLO-V8/1_qre-gAVNTuazaUPvNw2w-Q.jpg: 448x640 1 LicensePlate, 55.6ms\n",
            "Speed: 0.5ms pre-process, 55.6ms inference, 891.9ms postprocess per image at shape (1, 3, 640, 640)\n",
            "Results saved to \u001b[1mruns/detect/train30\u001b[0m\n"
          ]
        }
      ]
    }
  ]
}
